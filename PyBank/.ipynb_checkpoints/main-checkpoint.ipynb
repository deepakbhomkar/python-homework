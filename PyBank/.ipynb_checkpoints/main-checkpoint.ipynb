{
 "cells": [
  {
   "cell_type": "code",
   "execution_count": 1,
   "metadata": {},
   "outputs": [],
   "source": [
    "# Import the pathlib and csv library\n",
    "from pathlib import Path\n",
    "import csv"
   ]
  },
  {
   "cell_type": "code",
   "execution_count": 2,
   "metadata": {},
   "outputs": [
    {
     "name": "stdout",
     "output_type": "stream",
     "text": [
      "Current Working Directory: C:\\Users\\deepa\\Onedrive\\Documents\\FinTech\\Homework\\HW2\\python-homework\\PyBank\n"
     ]
    }
   ],
   "source": [
    "print(f\"Current Working Directory: {Path.cwd()}\")"
   ]
  },
  {
   "cell_type": "code",
   "execution_count": 3,
   "metadata": {},
   "outputs": [],
   "source": [
    "# Set the file path\n",
    "csvpath = Path('budget_data.csv')"
   ]
  },
  {
   "cell_type": "code",
   "execution_count": null,
   "metadata": {},
   "outputs": [],
   "source": [
    "# Initialize [budget] - list of dictionaries\n",
    "budget = []\n",
    "\n",
    "# Open the input path as a file object for csv\n",
    "with open(csvpath, 'r') as csvfile:\n",
    "    csvreader = csv.reader(csvfile, delimiter=',')\n",
    "    \n",
    "    # Go to the next row from the start of the file skip header for record processing\n",
    "    header = next(csvreader)\n",
    "\n",
    "    # Previous record profit & loss & row number of record being processed in for loop\n",
    "    prev_pnl = 0\n",
    "    row_number = 0\n",
    "    \n",
    "    # Iterate for each row after the header row is skipped\n",
    "    for row in csvreader:\n",
    "        # Initialize [pnl_month] dictionary for each record read\n",
    "        pnl_month = {}\n",
    "        \n",
    "        # Populate dictionary pnl_month with csv records\n",
    "        pnl_month[\"month\"] = row[0]\n",
    "        pnl_month[\"pnl\"] = int(row[1])\n",
    "        \n",
    "        # Calculate increase or decrease using previous record's proft/loss.\n",
    "        # First record will have increase decrease default set to 0.\n",
    "        if row_number == 0:\n",
    "            pnl_incr_decr = 0\n",
    "        else:\n",
    "            pnl_incr_decr = int(row[1]) - prev_pnl\n",
    "        \n",
    "        # Go to next row in csv file\n",
    "        row_number += 1\n",
    "        \n",
    "        # Set previous P&l in variable and populate increase decrease value for each record\n",
    "        prev_pnl = int(row[1])\n",
    "        pnl_month[\"incr_decr\"] = pnl_incr_decr\n",
    "        \n",
    "        # append dictionary {pnl_month} to list budget \n",
    "        budget.append(pnl_month)"
   ]
  },
  {
   "cell_type": "code",
   "execution_count": 5,
   "metadata": {},
   "outputs": [],
   "source": [
    "# Initialize variables\n",
    "index = 0\n",
    "this_record_pnl = 0\n",
    "this_record_incr_decr = 0\n",
    "net_pnl = 0\n",
    "total_months = 0\n",
    "avg_incr_decr = 0\n",
    "net_incr_decr = 0\n",
    "net_months = 0\n",
    "max_incr_profits = 0\n",
    "max_decr_profits = 0\n",
    "\n",
    "# Iterate list [budget]\n",
    "\n",
    "while index < len(budget):\n",
    "    \n",
    "    # Sum up total number months\n",
    "    total_months += 1\n",
    "    \n",
    "    # capture current record's P&L and Increase/Decrease in variable with Integer conversion\n",
    "    this_record_pnl = int(budget[index][\"pnl\"])\n",
    "    this_record_incr_decr = int(budget[index][\"incr_decr\"])\n",
    "    \n",
    "    # Sum up P&L and Increase/Decrease\n",
    "    net_pnl = net_pnl + this_record_pnl\n",
    "    net_incr_decr = net_incr_decr + this_record_incr_decr\n",
    "    \n",
    "    # Capture the greatest increase in profits with its month and the greatest decrese in profits with its month\n",
    "    if this_record_incr_decr > max_incr_profits:\n",
    "        max_incr_profits = this_record_incr_decr\n",
    "        max_incr_month = budget[index][\"month\"]\n",
    "    elif this_record_incr_decr < max_decr_profits:\n",
    "        max_decr_profits = this_record_incr_decr\n",
    "        max_decr_month = budget[index][\"month\"]\n",
    "    \n",
    "    # Go to next record\n",
    "    index += 1\n",
    "\n",
    "# Calculate average increase decrease - (sum of all increase decrease / number of months -1)\n",
    "net_months = total_months - 1\n",
    "avg_incr_decr = net_incr_decr/net_months"
   ]
  },
  {
   "cell_type": "code",
   "execution_count": 9,
   "metadata": {},
   "outputs": [
    {
     "name": "stdout",
     "output_type": "stream",
     "text": [
      "Financial Analysis\n",
      "----------------------------\n",
      "Total Months: 86\n",
      "Total: $38382578\n",
      "Average  Change: $-2315.12\n",
      "Greatest Increase in Profits: Feb-2012 ($1926159)\n",
      "Greatest Decrease in Profits: Sep-2013 ($-2196167)\n"
     ]
    }
   ],
   "source": [
    "# Print the calculations\n",
    "\n",
    "print(f\"Financial Analysis\")\n",
    "print(f\"----------------------------\")\n",
    "print(f\"Total Months: {total_months}\")\n",
    "print(f\"Total: ${net_pnl}\")\n",
    "print(f\"Average  Change: ${round(avg_incr_decr,2)}\")\n",
    "print(f\"Greatest Increase in Profits: {max_incr_month} (${max_incr_profits})\")\n",
    "print(f\"Greatest Decrease in Profits: {max_decr_month} (${max_decr_profits})\")"
   ]
  },
  {
   "cell_type": "code",
   "execution_count": 10,
   "metadata": {},
   "outputs": [],
   "source": [
    "# Set output file name\n",
    "output_path = 'output.txt'\n",
    "\n",
    "# Open the output path as a file object\n",
    "with open(output_path, 'w') as file:\n",
    "    # \n",
    "    file.write(f\"Financial Analysis\\n\")\n",
    "    file.write(f\"----------------------------\\n\")\n",
    "    file.write(f\"Total Months: {total_months}\\n\")\n",
    "    file.write(f\"Total: ${net_pnl}\\n\")\n",
    "    file.write(f\"Average  Change: ${round(avg_incr_decr,2)}\\n\")\n",
    "    file.write(f\"Greatest Increase in Profits: {max_incr_month} (${max_incr_profits})\\n\")\n",
    "    file.write(f\"Greatest Decrease in Profits: {max_decr_month} (${max_decr_profits})\\n\")"
   ]
  },
  {
   "cell_type": "code",
   "execution_count": null,
   "metadata": {},
   "outputs": [],
   "source": []
  }
 ],
 "metadata": {
  "kernelspec": {
   "display_name": "Python 3",
   "language": "python",
   "name": "python3"
  },
  "language_info": {
   "codemirror_mode": {
    "name": "ipython",
    "version": 3
   },
   "file_extension": ".py",
   "mimetype": "text/x-python",
   "name": "python",
   "nbconvert_exporter": "python",
   "pygments_lexer": "ipython3",
   "version": "3.8.3"
  }
 },
 "nbformat": 4,
 "nbformat_minor": 4
}

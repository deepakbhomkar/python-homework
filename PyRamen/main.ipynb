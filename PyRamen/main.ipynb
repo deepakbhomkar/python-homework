{
 "cells": [
  {
   "cell_type": "code",
   "execution_count": 28,
   "metadata": {},
   "outputs": [],
   "source": [
    "# Import libraries\n",
    "\n",
    "import csv\n",
    "from pathlib import Path"
   ]
  },
  {
   "cell_type": "code",
   "execution_count": 29,
   "metadata": {},
   "outputs": [],
   "source": [
    "# Set file paths for menu_data.csv and sales_data.csv\n",
    "\n",
    "menu_filepath = Path('Resources/menu_data.csv')\n",
    "sales_filepath = Path('Resources/sales_data.csv')"
   ]
  },
  {
   "cell_type": "code",
   "execution_count": 30,
   "metadata": {},
   "outputs": [],
   "source": [
    "# Initialize list objects to hold our menu and sales data\n",
    "\n",
    "menu = []\n",
    "sales = []"
   ]
  },
  {
   "cell_type": "code",
   "execution_count": 31,
   "metadata": {},
   "outputs": [
    {
     "name": "stdout",
     "output_type": "stream",
     "text": [
      "[['edamame', 'appetizers', 'boiled soybeans, maldon sea salt', '4', '1'], ['house salad', 'appetizers', 'mixed greens, cherry tomatoes, cucumber, house ginger dressing', '4', '2'], ['cucumber sunomono salad', 'appetizers', 'cucumber, ponzu dressing, pickled ginger sproud, sesame seeds', '5', '2'], ['hiyashi wakame seaweed salad', 'appetizers', 'sweet soy-marinated wakame seaweed threads, pickled ginger sprout, sesame seeds', '5', '2'], ['agedashi tofu', 'appetizers', 'tempura battered tofu, katsuobushi, tsuyu broth, scallions', '5', '2'], ['hiyayakko tofu', 'appetizers', 'chilled soft tofu, house shoyu, katsuobushi, ginger, scallions', '5', '2'], ['pork floss bao', 'appetizers', 'two steamed buns, minced lean slow braised niman, ranch pork belly, cucumbers, sriracha mayo', '4', '2'], ['kakuni bao', 'appetizers', 'two steamed buns, chopped fatty slow braised niman ranch pork belly, cucumbers, house bao sauce', '6', '3'], ['edamame fried gyoza (vegan)', 'appetizers', 'six crispy fried edamame and cabbage pot stickers; ponzu rayu dipping sauce', '6', '3'], ['fried gyoza', 'appetizers', 'six cripsy fried pork and vegetable pot stickers; ponzu rayu dipping sauce', '6', '6'], ['takoyaki', 'appetizers', 'six octopus-filled fried fritters, kewpie mayo, okonomi sauce, aonori, katsuobushi, nori', '6', '3'], ['rock shrimp tempura', 'appetizers', 'deep fried tempura battered rock shrimp, sriracha mayo, nisume sauce, aonori, scallions', '6', '3'], ['soft-shell crab tempura', 'appetizers', 'single deep fried soft-shell crab, tsuyu dipping broth', '6', '3'], ['ebi katsu shrimp bao', 'appetizers', 'two steamed buns, panko-crusted fried shrimp patties, yuzu-kosho mayo, aonori, scallions', '6', '3'], ['nagomi shoyu', 'entree', 'shoyu seasoned clear double stock (organic chick broth + house dashi); slow braised niman ranch pork belly, hanjuku tamago, nori, menma, scallions', '11', '5'], ['shio ramen', 'entree', 'sea salt seasoned clear double stock (organic chicken broth + house dashi); slow braised niman ranch pork belly, hanjuku tamago, kikurage, nori, scallions', '11', '5'], ['spicy miso ramen', 'entree', 'house togarashi miso blend + niman ranch pork bone stock; slow braised niman ranch pork belly, hanjuku tamago, kikurage, nori, scallions', '12', '5'], ['vegetarian spicy miso', 'entree', 'house togarashi miso blend + vegan dashi; tempura fried tofu, sweet corn, edamame, kikurage, nori, scallions; organic soy milk upon request', '12', '5'], ['miso crab ramen', 'entree', 'house miso crab blend + vegan dashi; slow braised niman ranch pork belly, crab meat, hanjuku tamago, kikurage, nori, scallions', '12', '6'], ['soft-shell miso crab ramen', 'entree', 'house miso crab blend + vegan dashi; fried whole soft-shell crab, hanjuku tamago, kikurage, nori, scallions', '14', '7'], ['tori paitan ramen', 'entree', 'rich, shoyu seasoned double stock (organic chicken broth + house dashi); slow braised niman ranch pork belly, hanuku tamago, kikurage, nori, scllaions', '13', '6'], ['tonkotsu ramen', 'entree', 'rich, shoyi seasoned niman ranch pork bone stock; slow braised niman ranch pork belly, hanjuku tamago, kikurage, nori, spring radish, scallions', '13', '6'], ['burnt garlic tonkotsu ramen', 'entree', 'rich, shoyi and burnt garlic seasoned niman ranch pork bone stock; slow braised niman ranch pork belly, hanjuku tamago, kikurage, sweet corn, nori, scallions', '14', '6'], ['vegetarian curry + king trumpet mushroom ramen', 'entree', 'house curry blend + vegan dashi; fried king trumpet mushroom, tempura fried tofu, mung bean sprouts, kikurage, nori, scallions', '13', '7'], ['truffle butter ramen', 'entree', 'rich, shoyu seasoned niman ranch prok bone stock; truffle compound butter, slow braised niman ranch pork belly, kikurage, sweet corn, nori, scallions', '14', '7'], ['green tea', 'drinks', 'green tea', '2.5', '1'], ['coke', 'drinks', 'Coca Cola soda', '2', '1'], ['black sesame ice cream', 'desserts', 'house-made black sesame ice cream, valrhona chocolate threads, complimentary hojicha', '5', '2'], ['matcha ice cream', 'desserts', 'house-made matcha ice cream, white chocolate pearls; complimentary hojicha', '5', '2'], ['mango mochi ice cream', 'desserts', 'two rice-cake bonbons filled with strawberry ice cream; complimentary hojicha', '5', '2'], ['strawberry mochi ice cream', 'desserts', 'two rice-cake bonbons filled with strawberry ice cream; complimentary hojicha', '5', '2'], ['black sesame creme brulee', 'desserts', 'house made black sesame infused creme brulee; complimentary hojicha', '6', '3']]\n"
     ]
    }
   ],
   "source": [
    "# Read in the menu data into the menu list\n",
    "\n",
    "with open(menu_filepath, 'r') as csvmenufile:\n",
    "    csvmenureader = csv.reader(csvmenufile, delimiter=',')\n",
    "    \n",
    "    header = next(csvmenureader)\n",
    "    \n",
    "    for item, category, description, price, cost in csvmenureader:\n",
    "        \n",
    "        # Individual list\n",
    "        menu_row = []\n",
    "        \n",
    "        # Append to individual list\n",
    "        menu_row.append(item)\n",
    "        menu_row.append(category)\n",
    "        menu_row.append(description)\n",
    "        menu_row.append(price)\n",
    "        menu_row.append(cost)\n",
    "        \n",
    "        # Append individual list to menu list\n",
    "        menu.append(menu_row)\n",
    "\n",
    "print(menu)"
   ]
  },
  {
   "cell_type": "code",
   "execution_count": 32,
   "metadata": {},
   "outputs": [],
   "source": [
    "# Read in the sales data into the sales list\n",
    "\n",
    "with open(sales_filepath, 'r') as csvsalesfile:\n",
    "    csvsalesreader = csv.reader(csvsalesfile, delimiter=',')\n",
    "    \n",
    "    header = next(csvsalesreader)\n",
    "    \n",
    "    for line_item_id, date, credit_card_num, quantity, menu_item in csvsalesreader:\n",
    "        \n",
    "        # Individual list sales_row[]\n",
    "        sales_row = []\n",
    "        \n",
    "        # Append to individual list sales_row[]\n",
    "        sales_row.append(line_item_id)\n",
    "        sales_row.append(date)\n",
    "        sales_row.append(credit_card_num)\n",
    "        sales_row.append(quantity)\n",
    "        sales_row.append(menu_item)\n",
    "        \n",
    "        # Append individual list to menu list\n",
    "        sales.append(sales_row)"
   ]
  },
  {
   "cell_type": "code",
   "execution_count": 33,
   "metadata": {},
   "outputs": [
    {
     "name": "stdout",
     "output_type": "stream",
     "text": [
      "Total number of records in sales data: 74124\n",
      "\n",
      "spicy miso ramen {'01-count': 9238, '02-revenue': 110856.0, '03-cogs': 46190.0, '04-profit': 64666.0}\n",
      "tori paitan ramen {'01-count': 9156, '02-revenue': 119028.0, '03-cogs': 54936.0, '04-profit': 64092.0}\n",
      "truffle butter ramen {'01-count': 8982, '02-revenue': 125748.0, '03-cogs': 62874.0, '04-profit': 62874.0}\n",
      "tonkotsu ramen {'01-count': 9288, '02-revenue': 120744.0, '03-cogs': 55728.0, '04-profit': 65016.0}\n",
      "vegetarian spicy miso {'01-count': 9216, '02-revenue': 110592.0, '03-cogs': 46080.0, '04-profit': 64512.0}\n",
      "shio ramen {'01-count': 9180, '02-revenue': 100980.0, '03-cogs': 45900.0, '04-profit': 55080.0}\n",
      "miso crab ramen {'01-count': 8890, '02-revenue': 106680.0, '03-cogs': 53340.0, '04-profit': 53340.0}\n",
      "nagomi shoyu {'01-count': 9132, '02-revenue': 100452.0, '03-cogs': 45660.0, '04-profit': 54792.0}\n",
      "soft-shell miso crab ramen {'01-count': 9130, '02-revenue': 127820.0, '03-cogs': 63910.0, '04-profit': 63910.0}\n",
      "burnt garlic tonkotsu ramen {'01-count': 9070, '02-revenue': 126980.0, '03-cogs': 54420.0, '04-profit': 72560.0}\n",
      "vegetarian curry + king trumpet mushroom ramen {'01-count': 8824, '02-revenue': 114712.0, '03-cogs': 61768.0, '04-profit': 52944.0}\n"
     ]
    }
   ],
   "source": [
    "# Initialize dict object to hold our key-value pairs of items and metrics\n",
    "report = {}\n",
    "\n",
    "# Initialize a row counter variable\n",
    "sales_row_count = 0\n",
    "quantity = 0\n",
    "price = 0\n",
    "cost = 0\n",
    "profit = 0\n",
    "sales_item = \"\"\n",
    "sales_item_exist = \"\"\n",
    "\n",
    "# Loop over every row in the sales list object\n",
    "\n",
    "for line_item_id, date, credit_card_num, quantity, menu_item in sales:\n",
    "    \n",
    "    # Set quantity and sales_item\n",
    "    quantity = int(sales[sales_row_count][3])\n",
    "    sales_item = sales[sales_row_count][4]\n",
    "    \n",
    "    # If the item value not in the report, add it as a new entry with initialized metrics\n",
    "    if sales_item in report:\n",
    "        sales_item_exist = True\n",
    "    else:\n",
    "        report[sales_item] = {\"01-count\": 0, \n",
    "                              \"02-revenue\": 0, \n",
    "                              \"03-cogs\": 0, \n",
    "                              \"04-profit\": 0,}\n",
    "    \n",
    "    menu_row_count = 0\n",
    "    \n",
    "    # For every row in sales data, loop over the menu records to determine a match \n",
    "    for item, category, description, price, cost in menu:\n",
    "        \n",
    "        # set item, price and cost from menu \n",
    "        item = menu[menu_row_count][0]\n",
    "        price = float(menu[menu_row_count][3])\n",
    "        cost = float(menu[menu_row_count][4])\n",
    "        \n",
    "        # calculate count, revenue, cogs and profit for each sales_item\n",
    "        profit = 0\n",
    "        \n",
    "        if sales_item == item:\n",
    "            report[sales_item][\"01-count\"] += quantity\n",
    "            report[sales_item][\"02-revenue\"] += price * quantity\n",
    "            report[sales_item][\"03-cogs\"] += cost * quantity\n",
    "            profit = price - cost \n",
    "            report[sales_item][\"04-profit\"] += profit * quantity\n",
    "        #else:\n",
    "        #    print(f\"{sales_item} does not equal {item}! NO MATCH!\")\n",
    "        \n",
    "        # Go to next menu item\n",
    "        menu_row_count += 1\n",
    "    \n",
    "    # Go to next record, increment row_count\n",
    "    sales_row_count += 1\n",
    "\n",
    "print(f\"Total number of records in sales data: {sales_row_count}\\n\")\n",
    "\n",
    "for key, value in report.items():\n",
    "    print(key, value )"
   ]
  },
  {
   "cell_type": "code",
   "execution_count": 34,
   "metadata": {},
   "outputs": [],
   "source": [
    "# Write out report to a text file\n",
    "output_path = 'PyRamenoutput.txt'\n",
    "\n",
    "# Open the output path as a file object\n",
    "with open(output_path, 'w') as file:\n",
    "    for key, value in report.items():\n",
    "        #value = report[sales_item]\n",
    "        file.write(str(key))\n",
    "        file.write(' ')\n",
    "        file.write(str(value))\n",
    "        file.write(\"\\n\")\n",
    "\n",
    "file.close()"
   ]
  },
  {
   "cell_type": "code",
   "execution_count": null,
   "metadata": {},
   "outputs": [],
   "source": []
  }
 ],
 "metadata": {
  "kernelspec": {
   "display_name": "Python 3",
   "language": "python",
   "name": "python3"
  },
  "language_info": {
   "codemirror_mode": {
    "name": "ipython",
    "version": 3
   },
   "file_extension": ".py",
   "mimetype": "text/x-python",
   "name": "python",
   "nbconvert_exporter": "python",
   "pygments_lexer": "ipython3",
   "version": "3.8.3"
  }
 },
 "nbformat": 4,
 "nbformat_minor": 4
}
